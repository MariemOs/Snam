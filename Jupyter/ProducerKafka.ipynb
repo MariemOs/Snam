{
 "cells": [
  {
   "cell_type": "code",
   "execution_count": 4,
   "metadata": {
    "collapsed": false
   },
   "outputs": [
    {
     "data": {
      "text/html": [
       "\n",
       "    <div class=\"bk-root\">\n",
       "        <a href=\"http://bokeh.pydata.org\" target=\"_blank\" class=\"bk-logo bk-logo-small bk-logo-notebook\"></a>\n",
       "        <span id=\"cc39b381-c554-4e8f-88d6-db6a18a1351b\">Loading BokehJS ...</span>\n",
       "    </div>"
      ]
     },
     "metadata": {},
     "output_type": "display_data"
    },
    {
     "data": {
      "application/javascript": [
       "\n",
       "(function(global) {\n",
       "  function now() {\n",
       "    return new Date();\n",
       "  }\n",
       "\n",
       "  if (typeof (window._bokeh_onload_callbacks) === \"undefined\") {\n",
       "    window._bokeh_onload_callbacks = [];\n",
       "  }\n",
       "\n",
       "  function run_callbacks() {\n",
       "    window._bokeh_onload_callbacks.forEach(function(callback) { callback() });\n",
       "    delete window._bokeh_onload_callbacks\n",
       "    console.info(\"Bokeh: all callbacks have finished\");\n",
       "  }\n",
       "\n",
       "  function load_libs(js_urls, callback) {\n",
       "    window._bokeh_onload_callbacks.push(callback);\n",
       "    if (window._bokeh_is_loading > 0) {\n",
       "      console.log(\"Bokeh: BokehJS is being loaded, scheduling callback at\", now());\n",
       "      return null;\n",
       "    }\n",
       "    if (js_urls == null || js_urls.length === 0) {\n",
       "      run_callbacks();\n",
       "      return null;\n",
       "    }\n",
       "    console.log(\"Bokeh: BokehJS not loaded, scheduling load and callback at\", now());\n",
       "    window._bokeh_is_loading = js_urls.length;\n",
       "    for (var i = 0; i < js_urls.length; i++) {\n",
       "      var url = js_urls[i];\n",
       "      var s = document.createElement('script');\n",
       "      s.src = url;\n",
       "      s.async = false;\n",
       "      s.onreadystatechange = s.onload = function() {\n",
       "        window._bokeh_is_loading--;\n",
       "        if (window._bokeh_is_loading === 0) {\n",
       "          console.log(\"Bokeh: all BokehJS libraries loaded\");\n",
       "          run_callbacks()\n",
       "        }\n",
       "      };\n",
       "      s.onerror = function() {\n",
       "        console.warn(\"failed to load library \" + url);\n",
       "      };\n",
       "      console.log(\"Bokeh: injecting script tag for BokehJS library: \", url);\n",
       "      document.getElementsByTagName(\"head\")[0].appendChild(s);\n",
       "    }\n",
       "  };\n",
       "\n",
       "  var js_urls = ['https://cdn.pydata.org/bokeh/release/bokeh-0.12.0.min.js', 'https://cdn.pydata.org/bokeh/release/bokeh-widgets-0.12.0.min.js', 'https://cdn.pydata.org/bokeh/release/bokeh-compiler-0.12.0.min.js'];\n",
       "\n",
       "  var inline_js = [\n",
       "    function(Bokeh) {\n",
       "      Bokeh.set_log_level(\"info\");\n",
       "    },\n",
       "    \n",
       "    function(Bokeh) {\n",
       "      Bokeh.$(\"#cc39b381-c554-4e8f-88d6-db6a18a1351b\").text(\"BokehJS successfully loaded\");\n",
       "    },\n",
       "    function(Bokeh) {\n",
       "      console.log(\"Bokeh: injecting CSS: https://cdn.pydata.org/bokeh/release/bokeh-0.12.0.min.css\");\n",
       "      Bokeh.embed.inject_css(\"https://cdn.pydata.org/bokeh/release/bokeh-0.12.0.min.css\");\n",
       "      console.log(\"Bokeh: injecting CSS: https://cdn.pydata.org/bokeh/release/bokeh-widgets-0.12.0.min.css\");\n",
       "      Bokeh.embed.inject_css(\"https://cdn.pydata.org/bokeh/release/bokeh-widgets-0.12.0.min.css\");\n",
       "    }\n",
       "  ];\n",
       "\n",
       "  function run_inline_js() {\n",
       "    for (var i = 0; i < inline_js.length; i++) {\n",
       "      inline_js[i](window.Bokeh);\n",
       "    }\n",
       "  }\n",
       "\n",
       "  if (window._bokeh_is_loading === 0) {\n",
       "    console.log(\"Bokeh: BokehJS loaded, going straight to plotting\");\n",
       "    run_inline_js();\n",
       "  } else {\n",
       "    load_libs(js_urls, function() {\n",
       "      console.log(\"Bokeh: BokehJS plotting callback run at\", now());\n",
       "      run_inline_js();\n",
       "    });\n",
       "  }\n",
       "}(this));"
      ]
     },
     "metadata": {},
     "output_type": "display_data"
    }
   ],
   "source": [
    "from bokeh.io import output_notebook, show\n",
    "output_notebook()\n",
    "from urllib.request import urlopen\n",
    "import json"
   ]
  },
  {
   "cell_type": "markdown",
   "metadata": {},
   "source": [
    "# Kafka\n",
    "\n",
    "#### Démarrage de zookeeper : ~/kafka/bin/zookeeper-server-start.sh ~/kafka/config/zookeeper.properties\n",
    "#### Démarrage du serveur Kafka :  ~/kafka/bin/kafka-server-start.sh ~/kafka/config/server.properties\n",
    "#### Démarrage du topic :   ~/kafka/bin/kafka-topics.sh --create --zookeeper localhost:2181 --replication-factor 1 --partitions 1 --topic clickstream"
   ]
  },
  {
   "cell_type": "code",
   "execution_count": 2,
   "metadata": {
    "collapsed": false
   },
   "outputs": [
    {
     "ename": "NameError",
     "evalue": "name 'listUnique' is not defined",
     "output_type": "error",
     "traceback": [
      "\u001b[1;31m---------------------------------------------------------------------------\u001b[0m",
      "\u001b[1;31mNameError\u001b[0m                                 Traceback (most recent call last)",
      "\u001b[1;32m<ipython-input-2-da16fd9a47ed>\u001b[0m in \u001b[0;36m<module>\u001b[1;34m()\u001b[0m\n\u001b[1;32m----> 1\u001b[1;33m \u001b[0mlistUnique\u001b[0m\u001b[1;33m\u001b[0m\u001b[0m\n\u001b[0m",
      "\u001b[1;31mNameError\u001b[0m: name 'listUnique' is not defined"
     ]
    }
   ],
   "source": [
    "listUnique"
   ]
  },
  {
   "cell_type": "code",
   "execution_count": 64,
   "metadata": {
    "collapsed": false,
    "scrolled": true
   },
   "outputs": [
    {
     "name": "stderr",
     "output_type": "stream",
     "text": [
      "/home/user9/anaconda3/lib/python3.5/site-packages/IPython/core/interactiveshell.py:2723: DtypeWarning: Columns (13) have mixed types. Specify dtype option on import or set low_memory=False.\n",
      "  interactivity=interactivity, compiler=compiler, result=result)\n"
     ]
    }
   ],
   "source": [
    "import pandas as pd\n",
    "url = \"https://maps.google.com/maps/api/geocode/json?latlng=\"\n",
    "file=\"/home/user9/sfpd_total1.csv\"\n",
    "data = pd.read_csv(file,sep=\",\")[:100000]\n",
    "#print(str(data.X) + str(data.Y))\n",
    "#x,y = data.X,data.Y\n",
    "#listxy = [str(data.X),str(data.Y)]\n",
    "listxy = pd.DataFrame({'X':data.X, 'Y':data.Y})\n",
    "listUnique = listxy.drop_duplicates()"
   ]
  },
  {
   "cell_type": "code",
   "execution_count": 65,
   "metadata": {
    "collapsed": false
   },
   "outputs": [
    {
     "data": {
      "text/plain": [
       "array(['\\ufeffIncidntNum', 'Category', 'Descript', 'DayOfWeek', 'Date',\n",
       "       'Time', 'PdDistrict', 'Resolution', 'Address', 'X', 'Y', 'Location',\n",
       "       'PdId', 'ZipCode', 'X1', 'American Indian population',\n",
       "       'Asian population', 'Average Adjusted Gross Income (AGI) in 2012',\n",
       "       'Average household size', 'Black population',\n",
       "       'Estimated zip code population in 2013', 'Females',\n",
       "       'Hispanic or Latino population', 'Houses and condos', 'Land area',\n",
       "       'Males', 'Mar. 2016 cost of living index in zip code',\n",
       "       'Median resident age',\n",
       "       'Native Hawaiian and Other Pacific Islander population',\n",
       "       'Population density (people per square mile)',\n",
       "       'Renter-occupied apartments',\n",
       "       'Residents with income below 50% of the poverty level in 2013',\n",
       "       'Salary/wage', 'Some other race population',\n",
       "       'Two or more races population', 'Water area', 'White population',\n",
       "       'Zip code population in 2000', 'Zip code population in 2010'], dtype=object)"
      ]
     },
     "execution_count": 65,
     "metadata": {},
     "output_type": "execute_result"
    }
   ],
   "source": [
    "data.columns.values"
   ]
  },
  {
   "cell_type": "code",
   "execution_count": 63,
   "metadata": {
    "collapsed": false
   },
   "outputs": [
    {
     "data": {
      "text/plain": [
       "\"[100475254 'ASSAULT' 'BATTERY' 'Friday' '08/26/2016' '08:00' 'NORTHERN'\\n 'ARREST, BOOKED' 'UNION ST / GOUGH ST' -122.427270640646 37.7981336020854\\n '(37.7981336020854, -122.427270640646)' 10047525404134 94123 0.0 21.0\\n 2407.0 249404.0 1.7 168.0 24500.0 12993.0 1255.0 15349.0 1.0 11507.0 157.0\\n 35.4 20.0 24005.0 9928.0 2.5 175447.0 79.0 586.0 0.1 18552.0 22903.0\\n 23088.0]\""
      ]
     },
     "execution_count": 63,
     "metadata": {},
     "output_type": "execute_result"
    }
   ],
   "source": [
    "str(data.values[0])"
   ]
  },
  {
   "cell_type": "code",
   "execution_count": 67,
   "metadata": {
    "collapsed": false
   },
   "outputs": [],
   "source": [
    "from kafka import KafkaProducer\n",
    "producer = KafkaProducer(bootstrap_servers='localhost:9092')\n",
    "#for i,y in zip(data.PdDistrict,data.Y):\n",
    "#    producer.send('clickstream', bytes(str(i), 'utf-8'))\n",
    "for i in range(1000):\n",
    "    producer.send('clickstream', bytes(str(data.values[i]),'utf-8'))\n"
   ]
  },
  {
   "cell_type": "markdown",
   "metadata": {},
   "source": [
    "x = pd.Series([1,2,1,2,1,2])\n",
    "y =  pd.Series([3,3,3,4,4,4])\n",
    "\n",
    "#print(type(x))\n",
    "#print(x)\n",
    "#print(y)\n",
    "l = pd.DataFrame({'x':x, 'y':y})\n",
    "#l =  pd.DataFrame([x,y])\n",
    "print(l)\n",
    "#setxy = set(l)\n",
    "print(l.drop_duplicates())\n",
    "#print(setxy)"
   ]
  },
  {
   "cell_type": "markdown",
   "metadata": {
    "collapsed": false
   },
   "source": [
    "for x,y in zip(data.X,data.Y):\n",
    "    #print(x[i] , y[i])\n",
    "    html = urlopen(url + str(y) + \",\" + str(x))\n",
    "    print(url + str(y) + \",\" + str(x))\n",
    "    html_byt = html.read()\n",
    "    html_str = html_byt.decode()\n",
    "    js = json.loads(html_str)\n",
    "    for result in js[\"results\"]:\n",
    "        for address_component in result['address_components']:\n",
    "            if address_component[\"types\"] == [\"postal_code\" ]:\n",
    "            # address_component['long_name'] and\n",
    "            # address_component['short_name'] are your data\n",
    "                #print(address_component['short_name'])\n",
    "                data\n",
    "                break\n",
    "            break\n",
    "    \n",
    "    \n",
    "    \n",
    "    #print (js[\"results\"][0][\"address_components\"][7][\"short_name\"]) "
   ]
  },
  {
   "cell_type": "markdown",
   "metadata": {
    "collapsed": false
   },
   "source": [
    "out=(data.X,data.Y).unique"
   ]
  },
  {
   "cell_type": "markdown",
   "metadata": {
    "collapsed": false
   },
   "source": [
    "for x,y in zip(data.X,data.Y):\n",
    "    print(x, y)"
   ]
  }
 ],
 "metadata": {
  "anaconda-cloud": {},
  "kernelspec": {
   "display_name": "Python [Root]",
   "language": "python",
   "name": "Python [Root]"
  },
  "language_info": {
   "codemirror_mode": {
    "name": "ipython",
    "version": 3
   },
   "file_extension": ".py",
   "mimetype": "text/x-python",
   "name": "python",
   "nbconvert_exporter": "python",
   "pygments_lexer": "ipython3",
   "version": "3.5.2"
  }
 },
 "nbformat": 4,
 "nbformat_minor": 0
}
